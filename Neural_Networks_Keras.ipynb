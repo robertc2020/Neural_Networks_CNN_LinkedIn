{
 "cells": [
  {
   "cell_type": "markdown",
   "metadata": {
    "collapsed": true
   },
   "source": [
    "# Introduction to Neural Networks"
   ]
  },
  {
   "cell_type": "markdown",
   "metadata": {},
   "source": [
    "## Import packages"
   ]
  },
  {
   "cell_type": "code",
   "execution_count": 1,
   "metadata": {},
   "outputs": [],
   "source": [
    "from keras.datasets import mnist\n",
    "from keras.preprocessing.image import load_img, array_to_img\n",
    "from keras.utils.np_utils import to_categorical\n",
    "from keras.models import Sequential\n",
    "from keras.layers import Dense\n",
    "\n",
    "import numpy as np\n",
    "import matplotlib.pyplot as plt\n",
    "%matplotlib inline"
   ]
  },
  {
   "cell_type": "markdown",
   "metadata": {},
   "source": [
    "## Load the data"
   ]
  },
  {
   "cell_type": "markdown",
   "metadata": {},
   "source": [
    " I want to be able to load the MNIST data set. So I type mnist and dot, and I Hit Tab, and this will give me the methods available with an MNIST. So I want to load the data. I Enter a Left and a Right Bracket. Now I have no idea what format the MNIST data will come in. So with the cursor within these two brackets, I'm going to Hit Shift + Tab Twice. And you can see that this tells me that what's returned when you Select Load Data, is a Tuple of Numpy arrays. Now there would be no way for me to know this without looking at this documentation."
   ]
  },
  {
   "cell_type": "code",
   "execution_count": 2,
   "metadata": {
    "scrolled": true
   },
   "outputs": [],
   "source": [
    "(X_train, y_train), (X_test, y_test) = mnist.load_data()"
   ]
  },
  {
   "cell_type": "code",
   "execution_count": 3,
   "metadata": {},
   "outputs": [
    {
     "name": "stdout",
     "output_type": "stream",
     "text": [
      "(60000, 28, 28)\n",
      "(60000,)\n",
      "(10000, 28, 28)\n",
      "(10000,)\n"
     ]
    }
   ],
   "source": [
    "print(X_train.shape)\n",
    "print(y_train.shape)\n",
    "print(X_test.shape)\n",
    "print(y_test.shape)"
   ]
  },
  {
   "cell_type": "markdown",
   "metadata": {
    "collapsed": true
   },
   "source": [
    "## Understanding the image data format"
   ]
  },
  {
   "cell_type": "code",
   "execution_count": 4,
   "metadata": {},
   "outputs": [
    {
     "data": {
      "text/plain": [
       "(28, 28)"
      ]
     },
     "execution_count": 4,
     "metadata": {},
     "output_type": "execute_result"
    }
   ],
   "source": [
    "X_train[0].shape"
   ]
  },
  {
   "cell_type": "markdown",
   "metadata": {},
   "source": [
    "f we look at the shape, we see that it's an image with dimensions 28 by 28. So why don't we plot this to see which digit this is?"
   ]
  },
  {
   "cell_type": "code",
   "execution_count": 5,
   "metadata": {},
   "outputs": [
    {
     "data": {
      "image/png": "[encoded data removed]",
      "text/plain": [
       "<Figure size 432x288 with 1 Axes>"
      ]
     },
     "metadata": {
      "needs_background": "light"
     },
     "output_type": "display_data"
    }
   ],
   "source": [
    "plt.imshow(X_train[0],cmap='gray');"
   ]
  },
  {
   "cell_type": "code",
   "execution_count": 6,
   "metadata": {},
   "outputs": [
    {
     "data": {
      "text/plain": [
       "5"
      ]
     },
     "execution_count": 6,
     "metadata": {},
     "output_type": "execute_result"
    }
   ],
   "source": [
    "y_train[0]"
   ]
  },
  {
   "cell_type": "code",
   "execution_count": null,
   "metadata": {},
   "outputs": [],
   "source": []
  },
  {
   "cell_type": "markdown",
   "metadata": {},
   "source": [
    "## Preprocessing the image data"
   ]
  },
  {
   "cell_type": "markdown",
   "metadata": {},
   "source": [
    " if we wanted to use this as our input to our neural network, we would need to reshape our image so that instead of it being a 28 by 28 image, we want to have a single line that is 784 across. So that's 28 by 28 which is 784. And so we can convert that, and so what we say is x_train.reshape and for the 60,000 entries, we want to reshape that to image height multiplied by image width, and this will give us one layer with 784 neurons across. "
   ]
  },
  {
   "cell_type": "code",
   "execution_count": 7,
   "metadata": {},
   "outputs": [],
   "source": [
    "image_height,image_width = 28,28"
   ]
  },
  {
   "cell_type": "code",
   "execution_count": 8,
   "metadata": {},
   "outputs": [
    {
     "name": "stdout",
     "output_type": "stream",
     "text": [
      "(60000, 784)\n",
      "(10000, 784)\n"
     ]
    }
   ],
   "source": [
    "X_train = X_train.reshape(60000, image_height*image_width)\n",
    "X_test = X_test.reshape(10000, image_height*image_width)\n",
    "print(X_train.shape)\n",
    "print(X_test.shape)"
   ]
  },
  {
   "cell_type": "markdown",
   "metadata": {},
   "source": [
    " We want to rescale our data from zero to one, as our original image is grayscale. So that means the value of the original pixels will be between zero and 255. But before we rescale our data, we will want to change the type to float so that there are no surprises when we divide by 255. "
   ]
  },
  {
   "cell_type": "code",
   "execution_count": 9,
   "metadata": {},
   "outputs": [
    {
     "name": "stdout",
     "output_type": "stream",
     "text": [
      "[  0   0   0   0   0   0   0   0   0   0   0   0   0   0   0   0   0   0\n",
      "   0   0   0   0   0   0   0   0   0   0   0   0   0   0   0   0   0   0\n",
      "   0   0   0   0   0   0   0   0   0   0   0   0   0   0   0   0   0   0\n",
      "   0   0   0   0   0   0   0   0   0   0   0   0   0   0   0   0   0   0\n",
      "   0   0   0   0   0   0   0   0   0   0   0   0   0   0   0   0   0   0\n",
      "   0   0   0   0   0   0   0   0   0   0   0   0   0   0   0   0   0   0\n",
      "   0   0   0   0   0   0   0   0   0   0   0   0   0   0   0   0   0   0\n",
      "   0   0   0   0   0   0   0   0   0   0   0   0   0   0   0   0   0   0\n",
      "   0   0   0   0   0   0   0   0   3  18  18  18 126 136 175  26 166 255\n",
      " 247 127   0   0   0   0   0   0   0   0   0   0   0   0  30  36  94 154\n",
      " 170 253 253 253 253 253 225 172 253 242 195  64   0   0   0   0   0   0\n",
      "   0   0   0   0   0  49 238 253 253 253 253 253 253 253 253 251  93  82\n",
      "  82  56  39   0   0   0   0   0   0   0   0   0   0   0   0  18 219 253\n",
      " 253 253 253 253 198 182 247 241   0   0   0   0   0   0   0   0   0   0\n",
      "   0   0   0   0   0   0   0   0  80 156 107 253 253 205  11   0  43 154\n",
      "   0   0   0   0   0   0   0   0   0   0   0   0   0   0   0   0   0   0\n",
      "   0  14   1 154 253  90   0   0   0   0   0   0   0   0   0   0   0   0\n",
      "   0   0   0   0   0   0   0   0   0   0   0   0   0 139 253 190   2   0\n",
      "   0   0   0   0   0   0   0   0   0   0   0   0   0   0   0   0   0   0\n",
      "   0   0   0   0   0  11 190 253  70   0   0   0   0   0   0   0   0   0\n",
      "   0   0   0   0   0   0   0   0   0   0   0   0   0   0   0   0  35 241\n",
      " 225 160 108   1   0   0   0   0   0   0   0   0   0   0   0   0   0   0\n",
      "   0   0   0   0   0   0   0   0   0  81 240 253 253 119  25   0   0   0\n",
      "   0   0   0   0   0   0   0   0   0   0   0   0   0   0   0   0   0   0\n",
      "   0   0  45 186 253 253 150  27   0   0   0   0   0   0   0   0   0   0\n",
      "   0   0   0   0   0   0   0   0   0   0   0   0   0  16  93 252 253 187\n",
      "   0   0   0   0   0   0   0   0   0   0   0   0   0   0   0   0   0   0\n",
      "   0   0   0   0   0   0   0 249 253 249  64   0   0   0   0   0   0   0\n",
      "   0   0   0   0   0   0   0   0   0   0   0   0   0   0  46 130 183 253\n",
      " 253 207   2   0   0   0   0   0   0   0   0   0   0   0   0   0   0   0\n",
      "   0   0   0   0  39 148 229 253 253 253 250 182   0   0   0   0   0   0\n",
      "   0   0   0   0   0   0   0   0   0   0   0   0  24 114 221 253 253 253\n",
      " 253 201  78   0   0   0   0   0   0   0   0   0   0   0   0   0   0   0\n",
      "   0   0  23  66 213 253 253 253 253 198  81   2   0   0   0   0   0   0\n",
      "   0   0   0   0   0   0   0   0   0   0  18 171 219 253 253 253 253 195\n",
      "  80   9   0   0   0   0   0   0   0   0   0   0   0   0   0   0   0   0\n",
      "  55 172 226 253 253 253 253 244 133  11   0   0   0   0   0   0   0   0\n",
      "   0   0   0   0   0   0   0   0   0   0 136 253 253 253 212 135 132  16\n",
      "   0   0   0   0   0   0   0   0   0   0   0   0   0   0   0   0   0   0\n",
      "   0   0   0   0   0   0   0   0   0   0   0   0   0   0   0   0   0   0\n",
      "   0   0   0   0   0   0   0   0   0   0   0   0   0   0   0   0   0   0\n",
      "   0   0   0   0   0   0   0   0   0   0   0   0   0   0   0   0   0   0\n",
      "   0   0   0   0   0   0   0   0   0   0   0   0   0   0   0   0   0   0\n",
      "   0   0   0   0   0   0   0   0   0   0]\n"
     ]
    }
   ],
   "source": [
    "print(X_train[0])\n",
    "X_train = X_train.astype('float32')\n",
    "X_test = X_test.astype('float32')"
   ]
  },
  {
   "cell_type": "markdown",
   "metadata": {},
   "source": [
    " And if I was to print out the first image, again... I would see that the values are now between zero and one as expected"
   ]
  },
  {
   "cell_type": "code",
   "execution_count": 10,
   "metadata": {},
   "outputs": [
    {
     "name": "stdout",
     "output_type": "stream",
     "text": [
      "[0.         0.         0.         0.         0.         0.\n",
      " 0.         0.         0.         0.         0.         0.\n",
      " 0.         0.         0.         0.         0.         0.\n",
      " 0.         0.         0.         0.         0.         0.\n",
      " 0.         0.         0.         0.         0.         0.\n",
      " 0.         0.         0.         0.         0.         0.\n",
      " 0.         0.         0.         0.         0.         0.\n",
      " 0.         0.         0.         0.         0.         0.\n",
      " 0.         0.         0.         0.         0.         0.\n",
      " 0.         0.         0.         0.         0.         0.\n",
      " 0.         0.         0.         0.         0.         0.\n",
      " 0.         0.         0.         0.         0.         0.\n",
      " 0.         0.         0.         0.         0.         0.\n",
      " 0.         0.         0.         0.         0.         0.\n",
      " 0.         0.         0.         0.         0.         0.\n",
      " 0.         0.         0.         0.         0.         0.\n",
      " 0.         0.         0.         0.         0.         0.\n",
      " 0.         0.         0.         0.         0.         0.\n",
      " 0.         0.         0.         0.         0.         0.\n",
      " 0.         0.         0.         0.         0.         0.\n",
      " 0.         0.         0.         0.         0.         0.\n",
      " 0.         0.         0.         0.         0.         0.\n",
      " 0.         0.         0.         0.         0.         0.\n",
      " 0.         0.         0.         0.         0.         0.\n",
      " 0.         0.         0.         0.         0.         0.\n",
      " 0.         0.         0.01176471 0.07058824 0.07058824 0.07058824\n",
      " 0.49411765 0.53333336 0.6862745  0.10196079 0.6509804  1.\n",
      " 0.96862745 0.49803922 0.         0.         0.         0.\n",
      " 0.         0.         0.         0.         0.         0.\n",
      " 0.         0.         0.11764706 0.14117648 0.36862746 0.6039216\n",
      " 0.6666667  0.99215686 0.99215686 0.99215686 0.99215686 0.99215686\n",
      " 0.88235295 0.6745098  0.99215686 0.9490196  0.7647059  0.2509804\n",
      " 0.         0.         0.         0.         0.         0.\n",
      " 0.         0.         0.         0.         0.         0.19215687\n",
      " 0.93333334 0.99215686 0.99215686 0.99215686 0.99215686 0.99215686\n",
      " 0.99215686 0.99215686 0.99215686 0.9843137  0.3647059  0.32156864\n",
      " 0.32156864 0.21960784 0.15294118 0.         0.         0.\n",
      " 0.         0.         0.         0.         0.         0.\n",
      " 0.         0.         0.         0.07058824 0.85882354 0.99215686\n",
      " 0.99215686 0.99215686 0.99215686 0.99215686 0.7764706  0.7137255\n",
      " 0.96862745 0.94509804 0.         0.         0.         0.\n",
      " 0.         0.         0.         0.         0.         0.\n",
      " 0.         0.         0.         0.         0.         0.\n",
      " 0.         0.         0.3137255  0.6117647  0.41960785 0.99215686\n",
      " 0.99215686 0.8039216  0.04313726 0.         0.16862746 0.6039216\n",
      " 0.         0.         0.         0.         0.         0.\n",
      " 0.         0.         0.         0.         0.         0.\n",
      " 0.         0.         0.         0.         0.         0.\n",
      " 0.         0.05490196 0.00392157 0.6039216  0.99215686 0.3529412\n",
      " 0.         0.         0.         0.         0.         0.\n",
      " 0.         0.         0.         0.         0.         0.\n",
      " 0.         0.         0.         0.         0.         0.\n",
      " 0.         0.         0.         0.         0.         0.\n",
      " 0.         0.54509807 0.99215686 0.74509805 0.00784314 0.\n",
      " 0.         0.         0.         0.         0.         0.\n",
      " 0.         0.         0.         0.         0.         0.\n",
      " 0.         0.         0.         0.         0.         0.\n",
      " 0.         0.         0.         0.         0.         0.04313726\n",
      " 0.74509805 0.99215686 0.27450982 0.         0.         0.\n",
      " 0.         0.         0.         0.         0.         0.\n",
      " 0.         0.         0.         0.         0.         0.\n",
      " 0.         0.         0.         0.         0.         0.\n",
      " 0.         0.         0.         0.         0.13725491 0.94509804\n",
      " 0.88235295 0.627451   0.42352942 0.00392157 0.         0.\n",
      " 0.         0.         0.         0.         0.         0.\n",
      " 0.         0.         0.         0.         0.         0.\n",
      " 0.         0.         0.         0.         0.         0.\n",
      " 0.         0.         0.         0.31764707 0.9411765  0.99215686\n",
      " 0.99215686 0.46666667 0.09803922 0.         0.         0.\n",
      " 0.         0.         0.         0.         0.         0.\n",
      " 0.         0.         0.         0.         0.         0.\n",
      " 0.         0.         0.         0.         0.         0.\n",
      " 0.         0.         0.1764706  0.7294118  0.99215686 0.99215686\n",
      " 0.5882353  0.10588235 0.         0.         0.         0.\n",
      " 0.         0.         0.         0.         0.         0.\n",
      " 0.         0.         0.         0.         0.         0.\n",
      " 0.         0.         0.         0.         0.         0.\n",
      " 0.         0.0627451  0.3647059  0.9882353  0.99215686 0.73333335\n",
      " 0.         0.         0.         0.         0.         0.\n",
      " 0.         0.         0.         0.         0.         0.\n",
      " 0.         0.         0.         0.         0.         0.\n",
      " 0.         0.         0.         0.         0.         0.\n",
      " 0.         0.9764706  0.99215686 0.9764706  0.2509804  0.\n",
      " 0.         0.         0.         0.         0.         0.\n",
      " 0.         0.         0.         0.         0.         0.\n",
      " 0.         0.         0.         0.         0.         0.\n",
      " 0.         0.         0.18039216 0.50980395 0.7176471  0.99215686\n",
      " 0.99215686 0.8117647  0.00784314 0.         0.         0.\n",
      " 0.         0.         0.         0.         0.         0.\n",
      " 0.         0.         0.         0.         0.         0.\n",
      " 0.         0.         0.         0.         0.15294118 0.5803922\n",
      " 0.8980392  0.99215686 0.99215686 0.99215686 0.98039216 0.7137255\n",
      " 0.         0.         0.         0.         0.         0.\n",
      " 0.         0.         0.         0.         0.         0.\n",
      " 0.         0.         0.         0.         0.         0.\n",
      " 0.09411765 0.44705883 0.8666667  0.99215686 0.99215686 0.99215686\n",
      " 0.99215686 0.7882353  0.30588236 0.         0.         0.\n",
      " 0.         0.         0.         0.         0.         0.\n",
      " 0.         0.         0.         0.         0.         0.\n",
      " 0.         0.         0.09019608 0.25882354 0.8352941  0.99215686\n",
      " 0.99215686 0.99215686 0.99215686 0.7764706  0.31764707 0.00784314\n",
      " 0.         0.         0.         0.         0.         0.\n",
      " 0.         0.         0.         0.         0.         0.\n",
      " 0.         0.         0.         0.         0.07058824 0.67058825\n",
      " 0.85882354 0.99215686 0.99215686 0.99215686 0.99215686 0.7647059\n",
      " 0.3137255  0.03529412 0.         0.         0.         0.\n",
      " 0.         0.         0.         0.         0.         0.\n",
      " 0.         0.         0.         0.         0.         0.\n",
      " 0.21568628 0.6745098  0.8862745  0.99215686 0.99215686 0.99215686\n",
      " 0.99215686 0.95686275 0.52156866 0.04313726 0.         0.\n",
      " 0.         0.         0.         0.         0.         0.\n",
      " 0.         0.         0.         0.         0.         0.\n",
      " 0.         0.         0.         0.         0.53333336 0.99215686\n",
      " 0.99215686 0.99215686 0.83137256 0.5294118  0.5176471  0.0627451\n",
      " 0.         0.         0.         0.         0.         0.\n",
      " 0.         0.         0.         0.         0.         0.\n",
      " 0.         0.         0.         0.         0.         0.\n",
      " 0.         0.         0.         0.         0.         0.\n",
      " 0.         0.         0.         0.         0.         0.\n",
      " 0.         0.         0.         0.         0.         0.\n",
      " 0.         0.         0.         0.         0.         0.\n",
      " 0.         0.         0.         0.         0.         0.\n",
      " 0.         0.         0.         0.         0.         0.\n",
      " 0.         0.         0.         0.         0.         0.\n",
      " 0.         0.         0.         0.         0.         0.\n",
      " 0.         0.         0.         0.         0.         0.\n",
      " 0.         0.         0.         0.         0.         0.\n",
      " 0.         0.         0.         0.         0.         0.\n",
      " 0.         0.         0.         0.         0.         0.\n",
      " 0.         0.         0.         0.         0.         0.\n",
      " 0.         0.         0.         0.        ]\n"
     ]
    }
   ],
   "source": [
    "X_train /= 255.0\n",
    "X_test /= 255.0\n",
    "print(X_train[0])"
   ]
  },
  {
   "cell_type": "code",
   "execution_count": 11,
   "metadata": {},
   "outputs": [
    {
     "name": "stdout",
     "output_type": "stream",
     "text": [
      "(60000,)\n",
      "(10000,)\n"
     ]
    }
   ],
   "source": [
    "print(y_train.shape)\n",
    "print(y_test.shape)"
   ]
  },
  {
   "cell_type": "markdown",
   "metadata": {},
   "source": [
    " So we actually want the last layer to be one where we can send out the result, or output, into one of 10 bins, representing the digits zero to nine. And we can use that, using the two categorical function that we imported earlier. So let's use two categorical, which is the two categorical method on our Y train data, and this time, we want it to have 10 different bins. "
   ]
  },
  {
   "cell_type": "code",
   "execution_count": 12,
   "metadata": {},
   "outputs": [
    {
     "name": "stdout",
     "output_type": "stream",
     "text": [
      "(60000, 10)\n",
      "(10000, 10)\n"
     ]
    }
   ],
   "source": [
    "y_train = to_categorical(y_train,10)\n",
    "y_test = to_categorical(y_test,10)\n",
    "print(y_train.shape)\n",
    "print(y_test.shape)"
   ]
  },
  {
   "cell_type": "code",
   "execution_count": null,
   "metadata": {},
   "outputs": [],
   "source": []
  },
  {
   "cell_type": "code",
   "execution_count": null,
   "metadata": {},
   "outputs": [],
   "source": []
  },
  {
   "cell_type": "markdown",
   "metadata": {
    "collapsed": true
   },
   "source": [
    "## Build a model"
   ]
  },
  {
   "cell_type": "markdown",
   "metadata": {
    "collapsed": true
   },
   "source": [
    " So let's just visualize the model that we are trying to create, and remember that the reason that we're going from 784 nodes, that's the original number of pixels that we had, if you multiply 28 by 28. We then go down to 512 nodes in each of these layers, and then we need to go down to 10 nodes, because our output needs to be one of 10 digits, that's zero to nine, and that's why we end up with 10 nodes in our final output layer. "
   ]
  },
  {
   "cell_type": "markdown",
   "metadata": {},
   "source": [
    "![NeuralNet](images/neural-net.png)"
   ]
  },
  {
   "cell_type": "code",
   "execution_count": 13,
   "metadata": {},
   "outputs": [],
   "source": [
    "model = Sequential()"
   ]
  },
  {
   "cell_type": "code",
   "execution_count": 14,
   "metadata": {},
   "outputs": [],
   "source": [
    "model.add(Dense(512, activation='relu', input_shape=(784,)))\n",
    "model.add(Dense(512, activation='relu'))\n",
    "model.add(Dense(10,activation='softmax'))"
   ]
  },
  {
   "cell_type": "markdown",
   "metadata": {
    "collapsed": true
   },
   "source": [
    "we want to use a fully connected node, so we use dense. Now if you want to know the parameters that the dense mode is expecting, if we type a shift and a tab twice, you can see that it's expecting an output node. So we specify dense, we know that we're going to have 512 output nodes, we specify what activation function we want to use. So in this instance, I'm just going to use relu, and I need to specify my input shape. So my input shape is going to be my 784 pixels that I have for my image. So 784, and we've then created the first layer of our neural network model. We create the next layer by saying model add, dense, and then we know that the second layer's going to have 512 nodes. We use activation function of relu again, and this time we don't need to specify the input node because Keras is able to determine that, and we know that the number of input nodes is, in fact, 512. We add the final layer, which is our output layer, and we say model add dense, and our final layer will have an output of 10 nodes, and this time 'round, we will be using softmax as our activation function because we want, as our output, one of the 10 classes"
   ]
  },
  {
   "cell_type": "markdown",
   "metadata": {
    "collapsed": true
   },
   "source": [
    "## Compile the model"
   ]
  },
  {
   "cell_type": "code",
   "execution_count": 15,
   "metadata": {},
   "outputs": [],
   "source": [
    "model.compile(optimizer='adam',loss='categorical_crossentropy', metrics=['accuracy'])"
   ]
  },
  {
   "cell_type": "code",
   "execution_count": 16,
   "metadata": {},
   "outputs": [
    {
     "name": "stdout",
     "output_type": "stream",
     "text": [
      "Model: \"sequential\"\n",
      "_________________________________________________________________\n",
      "Layer (type)                 Output Shape              Param #   \n",
      "=================================================================\n",
      "dense (Dense)                (None, 512)               401920    \n",
      "_________________________________________________________________\n",
      "dense_1 (Dense)              (None, 512)               262656    \n",
      "_________________________________________________________________\n",
      "dense_2 (Dense)              (None, 10)                5130      \n",
      "=================================================================\n",
      "Total params: 669,706\n",
      "Trainable params: 669,706\n",
      "Non-trainable params: 0\n",
      "_________________________________________________________________\n"
     ]
    }
   ],
   "source": [
    "model.summary()"
   ]
  },
  {
   "cell_type": "code",
   "execution_count": 17,
   "metadata": {},
   "outputs": [
    {
     "data": {
      "text/plain": [
       "401920"
      ]
     },
     "execution_count": 17,
     "metadata": {},
     "output_type": "execute_result"
    }
   ],
   "source": [
    "784*512+512"
   ]
  },
  {
   "cell_type": "code",
   "execution_count": 18,
   "metadata": {},
   "outputs": [
    {
     "data": {
      "text/plain": [
       "262656"
      ]
     },
     "execution_count": 18,
     "metadata": {},
     "output_type": "execute_result"
    }
   ],
   "source": [
    "512*512+512"
   ]
  },
  {
   "cell_type": "code",
   "execution_count": 19,
   "metadata": {},
   "outputs": [
    {
     "data": {
      "text/plain": [
       "5130"
      ]
     },
     "execution_count": 19,
     "metadata": {},
     "output_type": "execute_result"
    }
   ],
   "source": [
    "512*10+10"
   ]
  },
  {
   "cell_type": "markdown",
   "metadata": {
    "collapsed": true
   },
   "source": [
    "Before we can train our model, we'll need to compile our model so let's do a model.compile and look at the options available to us. So I hit the shift and tab and I can see that I need to specify an optimizer, a loss function, and the metrics. So for an optimizer, we will use Adam as that is our go-to optimizer in general. For the loss function, we're going to be using categorical cross entropy. And the reason for this is because our output is going to be 10 classes or 10 bins and the categorical cross entropy allows for that. So crossentropy. And finally, we need to specify that the metrics is accuracy. We need to just confirm that our model is as we expect so we type model.summary. And we can see that our model has two layers, the first one with 512 nodes, the second layer also with 512 nodes, and the final layer, or the output layer, with 10 nodes. So let's talk a little bit about how we get the number of parameters. Well, we can see that we've got originally 784 inputs because those correspond to the number of pixels that we have and those are terminating into 512 nodes and we need to include a bias.  So I have 784 pixels and I multiply that by 512 because it's terminating into 512 nodes. We can see that number of parameters that I have is 401,408. I then need to add the bias which is 512 for that layer and you end up with the number of parameters for that first layer. Moving onto the next layer, I've got 512 input nodes going into 512 nodes and then I have 512 parameters here. And I get the total number of parameters as 262,656. And finally, in the last layer, I've got 512 nodes going into 10 nodes and I have 10 as my bias and I end up with 5,130."
   ]
  },
  {
   "cell_type": "code",
   "execution_count": null,
   "metadata": {},
   "outputs": [],
   "source": []
  },
  {
   "cell_type": "code",
   "execution_count": null,
   "metadata": {},
   "outputs": [],
   "source": []
  },
  {
   "cell_type": "code",
   "execution_count": null,
   "metadata": {},
   "outputs": [],
   "source": []
  },
  {
   "cell_type": "markdown",
   "metadata": {
    "collapsed": true
   },
   "source": [
    "## Train the model"
   ]
  },
  {
   "cell_type": "code",
   "execution_count": 20,
   "metadata": {},
   "outputs": [
    {
     "name": "stdout",
     "output_type": "stream",
     "text": [
      "Epoch 1/20\n",
      "1875/1875 [==============================] - 10s 5ms/step - loss: 0.1816 - accuracy: 0.9446 - val_loss: 0.1090 - val_accuracy: 0.9671\n",
      "Epoch 2/20\n",
      "1875/1875 [==============================] - 10s 5ms/step - loss: 0.0808 - accuracy: 0.9748 - val_loss: 0.0933 - val_accuracy: 0.9717\n",
      "Epoch 3/20\n",
      "1875/1875 [==============================] - 12s 6ms/step - loss: 0.0551 - accuracy: 0.9822 - val_loss: 0.0919 - val_accuracy: 0.9722\n",
      "Epoch 4/20\n",
      "1875/1875 [==============================] - 11s 6ms/step - loss: 0.0436 - accuracy: 0.9863 - val_loss: 0.1118 - val_accuracy: 0.9690\n",
      "Epoch 5/20\n",
      "1875/1875 [==============================] - 12s 6ms/step - loss: 0.0342 - accuracy: 0.9891 - val_loss: 0.0796 - val_accuracy: 0.9791\n",
      "Epoch 6/20\n",
      "1875/1875 [==============================] - 12s 7ms/step - loss: 0.0277 - accuracy: 0.9908 - val_loss: 0.0914 - val_accuracy: 0.9784\n",
      "Epoch 7/20\n",
      "1875/1875 [==============================] - 12s 6ms/step - loss: 0.0255 - accuracy: 0.9918 - val_loss: 0.0751 - val_accuracy: 0.9808\n",
      "Epoch 8/20\n",
      "1875/1875 [==============================] - 11s 6ms/step - loss: 0.0217 - accuracy: 0.9927 - val_loss: 0.0841 - val_accuracy: 0.9790\n",
      "Epoch 9/20\n",
      "1875/1875 [==============================] - 12s 6ms/step - loss: 0.0203 - accuracy: 0.9938 - val_loss: 0.0959 - val_accuracy: 0.9796\n",
      "Epoch 10/20\n",
      "1875/1875 [==============================] - 11s 6ms/step - loss: 0.0178 - accuracy: 0.9946 - val_loss: 0.0947 - val_accuracy: 0.9792\n",
      "Epoch 11/20\n",
      "1875/1875 [==============================] - 11s 6ms/step - loss: 0.0176 - accuracy: 0.9946 - val_loss: 0.1098 - val_accuracy: 0.9796\n",
      "Epoch 12/20\n",
      "1875/1875 [==============================] - 11s 6ms/step - loss: 0.0180 - accuracy: 0.9948 - val_loss: 0.1132 - val_accuracy: 0.9792\n",
      "Epoch 13/20\n",
      "1875/1875 [==============================] - 11s 6ms/step - loss: 0.0141 - accuracy: 0.9961 - val_loss: 0.0986 - val_accuracy: 0.9834\n",
      "Epoch 14/20\n",
      "1875/1875 [==============================] - 12s 6ms/step - loss: 0.0151 - accuracy: 0.9959 - val_loss: 0.1081 - val_accuracy: 0.9804\n",
      "Epoch 15/20\n",
      "1875/1875 [==============================] - 13s 7ms/step - loss: 0.0141 - accuracy: 0.9962 - val_loss: 0.1284 - val_accuracy: 0.9799\n",
      "Epoch 16/20\n",
      "1875/1875 [==============================] - 12s 7ms/step - loss: 0.0165 - accuracy: 0.9956 - val_loss: 0.1027 - val_accuracy: 0.9819\n",
      "Epoch 17/20\n",
      "1875/1875 [==============================] - 12s 6ms/step - loss: 0.0133 - accuracy: 0.9963 - val_loss: 0.1261 - val_accuracy: 0.9793\n",
      "Epoch 18/20\n",
      "1875/1875 [==============================] - 11s 6ms/step - loss: 0.0099 - accuracy: 0.9974 - val_loss: 0.1040 - val_accuracy: 0.9835\n",
      "Epoch 19/20\n",
      "1875/1875 [==============================] - 11s 6ms/step - loss: 0.0141 - accuracy: 0.9966 - val_loss: 0.1320 - val_accuracy: 0.9799\n",
      "Epoch 20/20\n",
      "1875/1875 [==============================] - 12s 6ms/step - loss: 0.0090 - accuracy: 0.9975 - val_loss: 0.1295 - val_accuracy: 0.9814\n"
     ]
    }
   ],
   "source": [
    "history = model.fit(X_train, y_train, epochs=20, validation_data=(X_test, y_test))"
   ]
  },
  {
   "cell_type": "markdown",
   "metadata": {
    "collapsed": true
   },
   "source": [
    " We need to provide the number of epochs, which is the number of times the model goes through the training data. And we need to provide a parameter for the validation data. So, let's start start here with the training data. So, x_train, y_train, the number of epochs you want here is 20, and we want to specify that the validation data is going to be what we have in x_test and y_test. So now, we need to put that into a variable.  So, let's call that history, and we run that cell. So, we can see that we have now completed training of our model and this is stored in the history object. We can see that the model is doing pretty well. And we can see for the validation data set that it has an accuracy of about 98.27%"
   ]
  },
  {
   "cell_type": "markdown",
   "metadata": {},
   "source": [
    "## What is the accuracy of the model?"
   ]
  },
  {
   "cell_type": "markdown",
   "metadata": {},
   "source": [
    "### Plot the accuracy of the training model"
   ]
  },
  {
   "cell_type": "code",
   "execution_count": 21,
   "metadata": {},
   "outputs": [
    {
     "data": {
      "text/plain": [
       "{'loss': [0.18156751990318298,\n",
       "  0.08081948757171631,\n",
       "  0.055069513618946075,\n",
       "  0.04361487179994583,\n",
       "  0.03424472361803055,\n",
       "  0.02772429585456848,\n",
       "  0.025513527914881706,\n",
       "  0.021740026772022247,\n",
       "  0.020276742056012154,\n",
       "  0.017757941037416458,\n",
       "  0.01756296120584011,\n",
       "  0.017998207360506058,\n",
       "  0.014073721133172512,\n",
       "  0.01512928120791912,\n",
       "  0.014144189655780792,\n",
       "  0.016513381153345108,\n",
       "  0.013324330560863018,\n",
       "  0.009884697385132313,\n",
       "  0.014075057581067085,\n",
       "  0.008985912427306175],\n",
       " 'accuracy': [0.9445833563804626,\n",
       "  0.9748166799545288,\n",
       "  0.982200026512146,\n",
       "  0.986299991607666,\n",
       "  0.9890666604042053,\n",
       "  0.9908166527748108,\n",
       "  0.9917833209037781,\n",
       "  0.9926666617393494,\n",
       "  0.9938333630561829,\n",
       "  0.9945833086967468,\n",
       "  0.9945999979972839,\n",
       "  0.9947500228881836,\n",
       "  0.9961333274841309,\n",
       "  0.9958833456039429,\n",
       "  0.9962166547775269,\n",
       "  0.9955999851226807,\n",
       "  0.9962833523750305,\n",
       "  0.9973833560943604,\n",
       "  0.996566653251648,\n",
       "  0.9975166916847229],\n",
       " 'val_loss': [0.10902883112430573,\n",
       "  0.09328306466341019,\n",
       "  0.09192097187042236,\n",
       "  0.11177343875169754,\n",
       "  0.07959506660699844,\n",
       "  0.09136988967657089,\n",
       "  0.07505031675100327,\n",
       "  0.08409589529037476,\n",
       "  0.09592663496732712,\n",
       "  0.0946749597787857,\n",
       "  0.10978719592094421,\n",
       "  0.11321866512298584,\n",
       "  0.09864040464162827,\n",
       "  0.10805536806583405,\n",
       "  0.12843744456768036,\n",
       "  0.10267899185419083,\n",
       "  0.12608273327350616,\n",
       "  0.10395947098731995,\n",
       "  0.13203629851341248,\n",
       "  0.12948429584503174],\n",
       " 'val_accuracy': [0.9671000242233276,\n",
       "  0.9717000126838684,\n",
       "  0.9721999764442444,\n",
       "  0.968999981880188,\n",
       "  0.9790999889373779,\n",
       "  0.9783999919891357,\n",
       "  0.9807999730110168,\n",
       "  0.9789999723434448,\n",
       "  0.9796000123023987,\n",
       "  0.979200005531311,\n",
       "  0.9796000123023987,\n",
       "  0.979200005531311,\n",
       "  0.9833999872207642,\n",
       "  0.980400025844574,\n",
       "  0.9799000024795532,\n",
       "  0.9818999767303467,\n",
       "  0.9793000221252441,\n",
       "  0.9835000038146973,\n",
       "  0.9799000024795532,\n",
       "  0.9814000129699707]}"
      ]
     },
     "execution_count": 21,
     "metadata": {},
     "output_type": "execute_result"
    }
   ],
   "source": [
    "history.history"
   ]
  },
  {
   "cell_type": "markdown",
   "metadata": {
    "collapsed": true
   },
   "source": [
    "So let's look at the accuracy of the model. Now remember that this is stored in the history object, so if I want to plot the accuracy, I use Matploblib's PLT, plot history history and I access the accuracy, and we can see that the accuracy of our model tends towards 99%. "
   ]
  },
  {
   "cell_type": "code",
   "execution_count": 22,
   "metadata": {},
   "outputs": [
    {
     "data": {
      "image/png": "[encoded data removed]",
      "text/plain": [
       "<Figure size 432x288 with 1 Axes>"
      ]
     },
     "metadata": {
      "needs_background": "light"
     },
     "output_type": "display_data"
    }
   ],
   "source": [
    "plt.plot(history.history['accuracy']);"
   ]
  },
  {
   "cell_type": "markdown",
   "metadata": {
    "collapsed": true
   },
   "source": [
    "### Accuracy of training and validation with loss"
   ]
  },
  {
   "cell_type": "markdown",
   "metadata": {
    "collapsed": true
   },
   "source": [
    " And now let's plot the validation accuracy of the model, so I'm going to use the original accuracy, and I'm going to add the validation accuracy to the model here. So I'm going to type validation accuracy, and we can see that the accuracy of the training set is much higher than that of the evaluation data set, "
   ]
  },
  {
   "cell_type": "code",
   "execution_count": 23,
   "metadata": {},
   "outputs": [
    {
     "data": {
      "image/png": "[encoded data removed]",
      "text/plain": [
       "<Figure size 432x288 with 1 Axes>"
      ]
     },
     "metadata": {
      "needs_background": "light"
     },
     "output_type": "display_data"
    }
   ],
   "source": [
    "plt.plot(history.history['accuracy'])\n",
    "plt.plot(history.history['val_accuracy']);"
   ]
  },
  {
   "cell_type": "markdown",
   "metadata": {},
   "source": [
    " and now let's compare the accuracy of the training set, the accuracy of the validation set, and the loss of the model. So I'm going to copy the accuracy and the validation accuracy from the previous section, and I'm going to add the loss argument here. And we can see that the top line is the training accuracy, the second line, the orange line, is the validation accuracy, and finally, we can see that the bottom line there is the loss"
   ]
  },
  {
   "cell_type": "code",
   "execution_count": 24,
   "metadata": {},
   "outputs": [
    {
     "data": {
      "image/png": "[encoded data removed]",
      "text/plain": [
       "<Figure size 432x288 with 1 Axes>"
      ]
     },
     "metadata": {
      "needs_background": "light"
     },
     "output_type": "display_data"
    }
   ],
   "source": [
    "plt.plot(history.history['accuracy'])\n",
    "plt.plot(history.history['val_accuracy'])\n",
    "plt.plot(history.history['loss']);"
   ]
  },
  {
   "cell_type": "markdown",
   "metadata": {
    "collapsed": true
   },
   "source": [
    "## Evaluating the model"
   ]
  },
  {
   "cell_type": "code",
   "execution_count": 25,
   "metadata": {},
   "outputs": [
    {
     "name": "stdout",
     "output_type": "stream",
     "text": [
      "313/313 [==============================] - 1s 2ms/step - loss: 0.1295 - accuracy: 0.9814\n"
     ]
    }
   ],
   "source": [
    "score = model.evaluate(X_test, y_test)"
   ]
  },
  {
   "cell_type": "code",
   "execution_count": 26,
   "metadata": {},
   "outputs": [
    {
     "data": {
      "text/plain": [
       "[0.12948429584503174, 0.9814000129699707]"
      ]
     },
     "execution_count": 26,
     "metadata": {},
     "output_type": "execute_result"
    }
   ],
   "source": [
    "score"
   ]
  },
  {
   "cell_type": "markdown",
   "metadata": {
    "collapsed": true
   },
   "source": [
    " We can also check the accuracy of our model using the evaluate method. So we call our model, which is model.evaluate, and we use our test set, so x test and y test, and let's store this in the variable score. Now we can see that score is in fact a list, and it gives us the accuracy of our data as being 97.78% for our neural network model. And you can see that our model has an accuracy of about 97.78%, which is very good for a neural network model. "
   ]
  },
  {
   "cell_type": "code",
   "execution_count": null,
   "metadata": {},
   "outputs": [],
   "source": []
  },
  {
   "cell_type": "markdown",
   "metadata": {
    "collapsed": true
   },
   "source": [
    "## Experiment further\n",
    "- What results do you get with a model with more than 2 hidden layers and more/less neurons.\n",
    "- What results do you get when trying to use another activation function?\n",
    "- Try a new dataset with your own neural network and see what accuracy you get."
   ]
  },
  {
   "cell_type": "code",
   "execution_count": null,
   "metadata": {},
   "outputs": [],
   "source": []
  },
  {
   "cell_type": "code",
   "execution_count": 27,
   "metadata": {},
   "outputs": [],
   "source": [
    "model2 = Sequential()\n",
    "model2.add(Dense(512, activation='relu', input_shape=(784,)))\n",
    "model2.add(Dense(512, activation='relu'))\n",
    "model2.add(Dense(256,activation='relu')) ### <----\n",
    "model2.add(Dense(10,activation='softmax'))"
   ]
  },
  {
   "cell_type": "code",
   "execution_count": 28,
   "metadata": {},
   "outputs": [],
   "source": [
    "model2.compile(optimizer='adam',loss='categorical_crossentropy', metrics=['accuracy'])"
   ]
  },
  {
   "cell_type": "code",
   "execution_count": 29,
   "metadata": {},
   "outputs": [
    {
     "name": "stdout",
     "output_type": "stream",
     "text": [
      "Model: \"sequential_1\"\n",
      "_________________________________________________________________\n",
      "Layer (type)                 Output Shape              Param #   \n",
      "=================================================================\n",
      "dense_3 (Dense)              (None, 512)               401920    \n",
      "_________________________________________________________________\n",
      "dense_4 (Dense)              (None, 512)               262656    \n",
      "_________________________________________________________________\n",
      "dense_5 (Dense)              (None, 256)               131328    \n",
      "_________________________________________________________________\n",
      "dense_6 (Dense)              (None, 10)                2570      \n",
      "=================================================================\n",
      "Total params: 798,474\n",
      "Trainable params: 798,474\n",
      "Non-trainable params: 0\n",
      "_________________________________________________________________\n"
     ]
    }
   ],
   "source": [
    "model2.summary()"
   ]
  },
  {
   "cell_type": "code",
   "execution_count": 30,
   "metadata": {},
   "outputs": [
    {
     "name": "stdout",
     "output_type": "stream",
     "text": [
      "Epoch 1/20\n",
      "1875/1875 [==============================] - 15s 8ms/step - loss: 0.1929 - accuracy: 0.9414 - val_loss: 0.1489 - val_accuracy: 0.9538\n",
      "Epoch 2/20\n",
      "1875/1875 [==============================] - 14s 8ms/step - loss: 0.0895 - accuracy: 0.9723 - val_loss: 0.0928 - val_accuracy: 0.9725\n",
      "Epoch 3/20\n",
      "1875/1875 [==============================] - 14s 7ms/step - loss: 0.0632 - accuracy: 0.9800 - val_loss: 0.0784 - val_accuracy: 0.9774\n",
      "Epoch 4/20\n",
      "1875/1875 [==============================] - 14s 8ms/step - loss: 0.0510 - accuracy: 0.9839 - val_loss: 0.0901 - val_accuracy: 0.9740\n",
      "Epoch 5/20\n",
      "1875/1875 [==============================] - 14s 7ms/step - loss: 0.0419 - accuracy: 0.9872 - val_loss: 0.0874 - val_accuracy: 0.9784\n",
      "Epoch 6/20\n",
      "1875/1875 [==============================] - 14s 7ms/step - loss: 0.0349 - accuracy: 0.9892 - val_loss: 0.1079 - val_accuracy: 0.9734\n",
      "Epoch 7/20\n",
      "1875/1875 [==============================] - 13s 7ms/step - loss: 0.0294 - accuracy: 0.9911 - val_loss: 0.0945 - val_accuracy: 0.9781\n",
      "Epoch 8/20\n",
      "1875/1875 [==============================] - 14s 7ms/step - loss: 0.0299 - accuracy: 0.9913 - val_loss: 0.0910 - val_accuracy: 0.9805\n",
      "Epoch 9/20\n",
      "1875/1875 [==============================] - 14s 7ms/step - loss: 0.0261 - accuracy: 0.9923 - val_loss: 0.0866 - val_accuracy: 0.9813\n",
      "Epoch 10/20\n",
      "1875/1875 [==============================] - 14s 8ms/step - loss: 0.0205 - accuracy: 0.9935 - val_loss: 0.0911 - val_accuracy: 0.9808\n",
      "Epoch 11/20\n",
      "1875/1875 [==============================] - 16s 9ms/step - loss: 0.0210 - accuracy: 0.9940 - val_loss: 0.1398 - val_accuracy: 0.9779\n",
      "Epoch 12/20\n",
      "1875/1875 [==============================] - 15s 8ms/step - loss: 0.0212 - accuracy: 0.9941 - val_loss: 0.1001 - val_accuracy: 0.9806\n",
      "Epoch 13/20\n",
      "1875/1875 [==============================] - 14s 7ms/step - loss: 0.0193 - accuracy: 0.9946 - val_loss: 0.0953 - val_accuracy: 0.9814\n",
      "Epoch 14/20\n",
      "1875/1875 [==============================] - 14s 7ms/step - loss: 0.0180 - accuracy: 0.9950 - val_loss: 0.1170 - val_accuracy: 0.9797\n",
      "Epoch 15/20\n",
      "1875/1875 [==============================] - 15s 8ms/step - loss: 0.0158 - accuracy: 0.9957 - val_loss: 0.1319 - val_accuracy: 0.9780\n",
      "Epoch 16/20\n",
      "1875/1875 [==============================] - 14s 8ms/step - loss: 0.0191 - accuracy: 0.9951 - val_loss: 0.1059 - val_accuracy: 0.9817\n",
      "Epoch 17/20\n",
      "1875/1875 [==============================] - 14s 7ms/step - loss: 0.0158 - accuracy: 0.9959 - val_loss: 0.1131 - val_accuracy: 0.9814\n",
      "Epoch 18/20\n",
      "1875/1875 [==============================] - 14s 8ms/step - loss: 0.0121 - accuracy: 0.9966 - val_loss: 0.1289 - val_accuracy: 0.9808\n",
      "Epoch 19/20\n",
      "1875/1875 [==============================] - 15s 8ms/step - loss: 0.0170 - accuracy: 0.9958 - val_loss: 0.1397 - val_accuracy: 0.9815\n",
      "Epoch 20/20\n",
      "1875/1875 [==============================] - 15s 8ms/step - loss: 0.0137 - accuracy: 0.9964 - val_loss: 0.1101 - val_accuracy: 0.9849\n"
     ]
    }
   ],
   "source": [
    "history2 = model2.fit(X_train, y_train, epochs=20, validation_data=(X_test, y_test))"
   ]
  },
  {
   "cell_type": "code",
   "execution_count": 31,
   "metadata": {},
   "outputs": [
    {
     "data": {
      "image/png": "[encoded data removed]",
      "text/plain": [
       "<Figure size 432x288 with 1 Axes>"
      ]
     },
     "metadata": {
      "needs_background": "light"
     },
     "output_type": "display_data"
    }
   ],
   "source": [
    "plt.plot(history2.history['accuracy'])\n",
    "plt.plot(history2.history['val_accuracy'])\n",
    "plt.plot(history2.history['loss']);"
   ]
  },
  {
   "cell_type": "code",
   "execution_count": 32,
   "metadata": {},
   "outputs": [
    {
     "name": "stdout",
     "output_type": "stream",
     "text": [
      "313/313 [==============================] - 1s 3ms/step - loss: 0.1101 - accuracy: 0.9849\n"
     ]
    },
    {
     "data": {
      "text/plain": [
       "[0.11007162183523178, 0.9848999977111816]"
      ]
     },
     "execution_count": 32,
     "metadata": {},
     "output_type": "execute_result"
    }
   ],
   "source": [
    "score = model2.evaluate(X_test, y_test)\n",
    "score"
   ]
  },
  {
   "cell_type": "code",
   "execution_count": null,
   "metadata": {},
   "outputs": [],
   "source": []
  },
  {
   "cell_type": "code",
   "execution_count": null,
   "metadata": {},
   "outputs": [],
   "source": []
  },
  {
   "cell_type": "code",
   "execution_count": 33,
   "metadata": {},
   "outputs": [],
   "source": [
    "model3 = Sequential()\n",
    "model3.add(Dense(512, activation='relu', input_shape=(784,)))\n",
    "model3.add(Dense(512, activation='relu'))\n",
    "model3.add(Dense(256, activation='relu')) ### <----\n",
    "model3.add(Dense(128, activation='relu')) ### <----\n",
    "model3.add(Dense(10,activation='softmax'))"
   ]
  },
  {
   "cell_type": "code",
   "execution_count": 34,
   "metadata": {},
   "outputs": [],
   "source": [
    "model3.compile(optimizer='adam',loss='categorical_crossentropy', metrics=['accuracy'])"
   ]
  },
  {
   "cell_type": "code",
   "execution_count": 35,
   "metadata": {},
   "outputs": [
    {
     "name": "stdout",
     "output_type": "stream",
     "text": [
      "Model: \"sequential_2\"\n",
      "_________________________________________________________________\n",
      "Layer (type)                 Output Shape              Param #   \n",
      "=================================================================\n",
      "dense_7 (Dense)              (None, 512)               401920    \n",
      "_________________________________________________________________\n",
      "dense_8 (Dense)              (None, 512)               262656    \n",
      "_________________________________________________________________\n",
      "dense_9 (Dense)              (None, 256)               131328    \n",
      "_________________________________________________________________\n",
      "dense_10 (Dense)             (None, 128)               32896     \n",
      "_________________________________________________________________\n",
      "dense_11 (Dense)             (None, 10)                1290      \n",
      "=================================================================\n",
      "Total params: 830,090\n",
      "Trainable params: 830,090\n",
      "Non-trainable params: 0\n",
      "_________________________________________________________________\n"
     ]
    }
   ],
   "source": [
    "model3.summary()"
   ]
  },
  {
   "cell_type": "code",
   "execution_count": 36,
   "metadata": {},
   "outputs": [
    {
     "name": "stdout",
     "output_type": "stream",
     "text": [
      "Epoch 1/20\n",
      "1875/1875 [==============================] - 16s 8ms/step - loss: 0.2049 - accuracy: 0.9385 - val_loss: 0.1073 - val_accuracy: 0.9663\n",
      "Epoch 2/20\n",
      "1875/1875 [==============================] - 16s 8ms/step - loss: 0.0956 - accuracy: 0.9719 - val_loss: 0.1018 - val_accuracy: 0.9709\n",
      "Epoch 3/20\n",
      "1875/1875 [==============================] - 14s 8ms/step - loss: 0.0705 - accuracy: 0.9789 - val_loss: 0.0792 - val_accuracy: 0.9766\n",
      "Epoch 4/20\n",
      "1875/1875 [==============================] - 15s 8ms/step - loss: 0.0569 - accuracy: 0.9830 - val_loss: 0.0759 - val_accuracy: 0.9792\n",
      "Epoch 5/20\n",
      "1875/1875 [==============================] - 16s 8ms/step - loss: 0.0451 - accuracy: 0.9869 - val_loss: 0.1019 - val_accuracy: 0.9742\n",
      "Epoch 6/20\n",
      "1875/1875 [==============================] - 16s 8ms/step - loss: 0.0405 - accuracy: 0.9880 - val_loss: 0.0744 - val_accuracy: 0.9802\n",
      "Epoch 7/20\n",
      "1875/1875 [==============================] - 15s 8ms/step - loss: 0.0349 - accuracy: 0.9896 - val_loss: 0.0853 - val_accuracy: 0.9809\n",
      "Epoch 8/20\n",
      "1875/1875 [==============================] - 15s 8ms/step - loss: 0.0302 - accuracy: 0.9915 - val_loss: 0.1054 - val_accuracy: 0.9763\n",
      "Epoch 9/20\n",
      "1875/1875 [==============================] - 16s 9ms/step - loss: 0.0266 - accuracy: 0.9924 - val_loss: 0.1356 - val_accuracy: 0.9772\n",
      "Epoch 10/20\n",
      "1875/1875 [==============================] - 16s 8ms/step - loss: 0.0260 - accuracy: 0.9928 - val_loss: 0.0958 - val_accuracy: 0.9806\n",
      "Epoch 11/20\n",
      "1875/1875 [==============================] - 14s 8ms/step - loss: 0.0227 - accuracy: 0.9935 - val_loss: 0.1334 - val_accuracy: 0.9788\n",
      "Epoch 12/20\n",
      "1875/1875 [==============================] - 15s 8ms/step - loss: 0.0258 - accuracy: 0.9930 - val_loss: 0.1019 - val_accuracy: 0.9803\n",
      "Epoch 13/20\n",
      "1875/1875 [==============================] - 16s 8ms/step - loss: 0.0195 - accuracy: 0.9947 - val_loss: 0.1175 - val_accuracy: 0.9810\n",
      "Epoch 14/20\n",
      "1875/1875 [==============================] - 16s 8ms/step - loss: 0.0205 - accuracy: 0.9945 - val_loss: 0.0942 - val_accuracy: 0.9836\n",
      "Epoch 15/20\n",
      "1875/1875 [==============================] - 15s 8ms/step - loss: 0.0178 - accuracy: 0.9951 - val_loss: 0.1197 - val_accuracy: 0.9822\n",
      "Epoch 16/20\n",
      "1875/1875 [==============================] - 16s 8ms/step - loss: 0.0194 - accuracy: 0.9953 - val_loss: 0.1354 - val_accuracy: 0.9789\n",
      "Epoch 17/20\n",
      "1875/1875 [==============================] - 16s 8ms/step - loss: 0.0196 - accuracy: 0.9949 - val_loss: 0.1250 - val_accuracy: 0.9819\n",
      "Epoch 18/20\n",
      "1875/1875 [==============================] - 16s 9ms/step - loss: 0.0161 - accuracy: 0.9962 - val_loss: 0.1966 - val_accuracy: 0.9765\n",
      "Epoch 19/20\n",
      "1875/1875 [==============================] - 15s 8ms/step - loss: 0.0166 - accuracy: 0.9957 - val_loss: 0.1326 - val_accuracy: 0.9818\n",
      "Epoch 20/20\n",
      "1875/1875 [==============================] - 17s 9ms/step - loss: 0.0141 - accuracy: 0.9962 - val_loss: 0.1472 - val_accuracy: 0.9815\n"
     ]
    }
   ],
   "source": [
    "history3 = model3.fit(X_train, y_train, epochs=20, validation_data=(X_test, y_test))"
   ]
  },
  {
   "cell_type": "code",
   "execution_count": 37,
   "metadata": {},
   "outputs": [
    {
     "data": {
      "image/png": "[encoded data removed]",
      "text/plain": [
       "<Figure size 432x288 with 1 Axes>"
      ]
     },
     "metadata": {
      "needs_background": "light"
     },
     "output_type": "display_data"
    }
   ],
   "source": [
    "plt.plot(history3.history['accuracy'])\n",
    "plt.plot(history3.history['val_accuracy'])\n",
    "plt.plot(history3.history['loss']);"
   ]
  },
  {
   "cell_type": "code",
   "execution_count": 38,
   "metadata": {},
   "outputs": [
    {
     "name": "stdout",
     "output_type": "stream",
     "text": [
      "313/313 [==============================] - 1s 3ms/step - loss: 0.1472 - accuracy: 0.9815\n"
     ]
    },
    {
     "data": {
      "text/plain": [
       "[0.14716948568820953, 0.9815000295639038]"
      ]
     },
     "execution_count": 38,
     "metadata": {},
     "output_type": "execute_result"
    }
   ],
   "source": [
    "score = model3.evaluate(X_test, y_test)\n",
    "score"
   ]
  },
  {
   "cell_type": "code",
   "execution_count": null,
   "metadata": {},
   "outputs": [],
   "source": []
  },
  {
   "cell_type": "code",
   "execution_count": null,
   "metadata": {},
   "outputs": [],
   "source": []
  },
  {
   "cell_type": "code",
   "execution_count": 39,
   "metadata": {},
   "outputs": [
    {
     "name": "stdout",
     "output_type": "stream",
     "text": [
      "Model: \"sequential_3\"\n",
      "_________________________________________________________________\n",
      "Layer (type)                 Output Shape              Param #   \n",
      "=================================================================\n",
      "dense_12 (Dense)             (None, 512)               401920    \n",
      "_________________________________________________________________\n",
      "dense_13 (Dense)             (None, 512)               262656    \n",
      "_________________________________________________________________\n",
      "dense_14 (Dense)             (None, 256)               131328    \n",
      "_________________________________________________________________\n",
      "dense_15 (Dense)             (None, 10)                2570      \n",
      "=================================================================\n",
      "Total params: 798,474\n",
      "Trainable params: 798,474\n",
      "Non-trainable params: 0\n",
      "_________________________________________________________________\n"
     ]
    }
   ],
   "source": [
    "model21 = Sequential()\n",
    "model21.add(Dense(512, activation='sigmoid', input_shape=(784,)))\n",
    "model21.add(Dense(512, activation='sigmoid'))\n",
    "model21.add(Dense(256,activation='sigmoid')) ### <----\n",
    "model21.add(Dense(10,activation='softmax'))\n",
    "\n",
    "model21.compile(optimizer='adam',loss='categorical_crossentropy', metrics=['accuracy'])\n",
    "model21.summary()"
   ]
  },
  {
   "cell_type": "code",
   "execution_count": 40,
   "metadata": {},
   "outputs": [
    {
     "name": "stdout",
     "output_type": "stream",
     "text": [
      "Epoch 1/20\n",
      "1875/1875 [==============================] - 15s 8ms/step - loss: 0.3550 - accuracy: 0.8893 - val_loss: 0.1854 - val_accuracy: 0.9406\n",
      "Epoch 2/20\n",
      "1875/1875 [==============================] - 13s 7ms/step - loss: 0.1415 - accuracy: 0.9569 - val_loss: 0.1130 - val_accuracy: 0.9653\n",
      "Epoch 3/20\n",
      "1875/1875 [==============================] - 15s 8ms/step - loss: 0.0939 - accuracy: 0.9713 - val_loss: 0.0919 - val_accuracy: 0.9702\n",
      "Epoch 4/20\n",
      "1875/1875 [==============================] - 15s 8ms/step - loss: 0.0694 - accuracy: 0.9781 - val_loss: 0.0822 - val_accuracy: 0.9738\n",
      "Epoch 5/20\n",
      "1875/1875 [==============================] - 15s 8ms/step - loss: 0.0509 - accuracy: 0.9839 - val_loss: 0.0781 - val_accuracy: 0.9755\n",
      "Epoch 6/20\n",
      "1875/1875 [==============================] - 16s 9ms/step - loss: 0.0400 - accuracy: 0.9871 - val_loss: 0.0937 - val_accuracy: 0.9726\n",
      "Epoch 7/20\n",
      "1875/1875 [==============================] - 17s 9ms/step - loss: 0.0307 - accuracy: 0.9901 - val_loss: 0.0726 - val_accuracy: 0.9799\n",
      "Epoch 8/20\n",
      "1875/1875 [==============================] - 16s 9ms/step - loss: 0.0242 - accuracy: 0.9926 - val_loss: 0.0922 - val_accuracy: 0.9758\n",
      "Epoch 9/20\n",
      "1875/1875 [==============================] - 16s 8ms/step - loss: 0.0207 - accuracy: 0.9933 - val_loss: 0.0844 - val_accuracy: 0.9791\n",
      "Epoch 10/20\n",
      "1875/1875 [==============================] - 16s 9ms/step - loss: 0.0177 - accuracy: 0.9944 - val_loss: 0.0807 - val_accuracy: 0.9802\n",
      "Epoch 11/20\n",
      "1875/1875 [==============================] - 16s 9ms/step - loss: 0.0143 - accuracy: 0.9953 - val_loss: 0.0917 - val_accuracy: 0.9799\n",
      "Epoch 12/20\n",
      "1875/1875 [==============================] - 16s 9ms/step - loss: 0.0120 - accuracy: 0.9962 - val_loss: 0.0852 - val_accuracy: 0.9792\n",
      "Epoch 13/20\n",
      "1875/1875 [==============================] - 16s 9ms/step - loss: 0.0103 - accuracy: 0.9965 - val_loss: 0.0938 - val_accuracy: 0.9792\n",
      "Epoch 14/20\n",
      "1875/1875 [==============================] - 17s 9ms/step - loss: 0.0098 - accuracy: 0.9967 - val_loss: 0.0891 - val_accuracy: 0.9809\n",
      "Epoch 15/20\n",
      "1875/1875 [==============================] - 15s 8ms/step - loss: 0.0101 - accuracy: 0.9964 - val_loss: 0.0982 - val_accuracy: 0.9799\n",
      "Epoch 16/20\n",
      "1875/1875 [==============================] - 16s 8ms/step - loss: 0.0082 - accuracy: 0.9972 - val_loss: 0.1053 - val_accuracy: 0.9787\n",
      "Epoch 17/20\n",
      "1875/1875 [==============================] - 15s 8ms/step - loss: 0.0091 - accuracy: 0.9968 - val_loss: 0.1015 - val_accuracy: 0.9807\n",
      "Epoch 18/20\n",
      "1875/1875 [==============================] - 16s 8ms/step - loss: 0.0055 - accuracy: 0.9983 - val_loss: 0.1170 - val_accuracy: 0.9808\n",
      "Epoch 19/20\n",
      "1875/1875 [==============================] - 16s 8ms/step - loss: 0.0085 - accuracy: 0.9973 - val_loss: 0.1127 - val_accuracy: 0.9784\n",
      "Epoch 20/20\n",
      "1875/1875 [==============================] - 14s 7ms/step - loss: 0.0039 - accuracy: 0.9988 - val_loss: 0.0991 - val_accuracy: 0.9831\n"
     ]
    }
   ],
   "source": [
    "history21 = model21.fit(X_train, y_train, epochs=20, validation_data=(X_test, y_test))"
   ]
  },
  {
   "cell_type": "code",
   "execution_count": 41,
   "metadata": {},
   "outputs": [
    {
     "data": {
      "image/png": "[encoded data removed]",
      "text/plain": [
       "<Figure size 432x288 with 1 Axes>"
      ]
     },
     "metadata": {
      "needs_background": "light"
     },
     "output_type": "display_data"
    }
   ],
   "source": [
    "plt.plot(history21.history['accuracy'])\n",
    "plt.plot(history21.history['val_accuracy'])\n",
    "plt.plot(history21.history['loss']);"
   ]
  },
  {
   "cell_type": "code",
   "execution_count": 42,
   "metadata": {},
   "outputs": [
    {
     "name": "stdout",
     "output_type": "stream",
     "text": [
      "313/313 [==============================] - 1s 4ms/step - loss: 0.0991 - accuracy: 0.9831\n"
     ]
    },
    {
     "data": {
      "text/plain": [
       "[0.09907624870538712, 0.9830999970436096]"
      ]
     },
     "execution_count": 42,
     "metadata": {},
     "output_type": "execute_result"
    }
   ],
   "source": [
    "score = model21.evaluate(X_test, y_test)\n",
    "score"
   ]
  },
  {
   "cell_type": "code",
   "execution_count": null,
   "metadata": {},
   "outputs": [],
   "source": []
  },
  {
   "cell_type": "code",
   "execution_count": 43,
   "metadata": {},
   "outputs": [
    {
     "name": "stdout",
     "output_type": "stream",
     "text": [
      "Model: \"sequential_4\"\n",
      "_________________________________________________________________\n",
      "Layer (type)                 Output Shape              Param #   \n",
      "=================================================================\n",
      "dense_16 (Dense)             (None, 512)               401920    \n",
      "_________________________________________________________________\n",
      "dense_17 (Dense)             (None, 512)               262656    \n",
      "_________________________________________________________________\n",
      "dense_18 (Dense)             (None, 256)               131328    \n",
      "_________________________________________________________________\n",
      "dense_19 (Dense)             (None, 10)                2570      \n",
      "=================================================================\n",
      "Total params: 798,474\n",
      "Trainable params: 798,474\n",
      "Non-trainable params: 0\n",
      "_________________________________________________________________\n"
     ]
    }
   ],
   "source": [
    "model22 = Sequential()\n",
    "model22.add(Dense(512, activation='tanh', input_shape=(784,)))\n",
    "model22.add(Dense(512, activation='tanh'))\n",
    "model22.add(Dense(256,activation='tanh')) ### <----\n",
    "model22.add(Dense(10,activation='softmax'))\n",
    "\n",
    "model22.compile(optimizer='adam',loss='categorical_crossentropy', metrics=['accuracy'])\n",
    "model22.summary()"
   ]
  },
  {
   "cell_type": "code",
   "execution_count": 44,
   "metadata": {},
   "outputs": [
    {
     "name": "stdout",
     "output_type": "stream",
     "text": [
      "Epoch 1/20\n",
      "1875/1875 [==============================] - 13s 7ms/step - loss: 0.3547 - accuracy: 0.8893 - val_loss: 0.1609 - val_accuracy: 0.9521\n",
      "Epoch 2/20\n",
      "1875/1875 [==============================] - 12s 7ms/step - loss: 0.1392 - accuracy: 0.9570 - val_loss: 0.1255 - val_accuracy: 0.9615\n",
      "Epoch 3/20\n",
      "1875/1875 [==============================] - 13s 7ms/step - loss: 0.0940 - accuracy: 0.9711 - val_loss: 0.1105 - val_accuracy: 0.9657\n",
      "Epoch 4/20\n",
      "1875/1875 [==============================] - 13s 7ms/step - loss: 0.0673 - accuracy: 0.9792 - val_loss: 0.0806 - val_accuracy: 0.9752\n",
      "Epoch 5/20\n",
      "1875/1875 [==============================] - 12s 7ms/step - loss: 0.0506 - accuracy: 0.9848 - val_loss: 0.0805 - val_accuracy: 0.9748\n",
      "Epoch 6/20\n",
      "1875/1875 [==============================] - 12s 7ms/step - loss: 0.0385 - accuracy: 0.9878 - val_loss: 0.0806 - val_accuracy: 0.9757\n",
      "Epoch 7/20\n",
      "1875/1875 [==============================] - 13s 7ms/step - loss: 0.0306 - accuracy: 0.9900 - val_loss: 0.0698 - val_accuracy: 0.9808\n",
      "Epoch 8/20\n",
      "1875/1875 [==============================] - 13s 7ms/step - loss: 0.0238 - accuracy: 0.9923 - val_loss: 0.0921 - val_accuracy: 0.9758\n",
      "Epoch 9/20\n",
      "1875/1875 [==============================] - 13s 7ms/step - loss: 0.0206 - accuracy: 0.9932 - val_loss: 0.0907 - val_accuracy: 0.9765\n",
      "Epoch 10/20\n",
      "1875/1875 [==============================] - 13s 7ms/step - loss: 0.0172 - accuracy: 0.9944 - val_loss: 0.0853 - val_accuracy: 0.9799\n",
      "Epoch 11/20\n",
      "1875/1875 [==============================] - 12s 7ms/step - loss: 0.0132 - accuracy: 0.9959 - val_loss: 0.0846 - val_accuracy: 0.9799\n",
      "Epoch 12/20\n",
      "1875/1875 [==============================] - 13s 7ms/step - loss: 0.0135 - accuracy: 0.9955 - val_loss: 0.0786 - val_accuracy: 0.9810\n",
      "Epoch 13/20\n",
      "1875/1875 [==============================] - 14s 7ms/step - loss: 0.0119 - accuracy: 0.9961 - val_loss: 0.0859 - val_accuracy: 0.9823\n",
      "Epoch 14/20\n",
      "1875/1875 [==============================] - 13s 7ms/step - loss: 0.0091 - accuracy: 0.9969 - val_loss: 0.1288 - val_accuracy: 0.9744\n",
      "Epoch 15/20\n",
      "1875/1875 [==============================] - 13s 7ms/step - loss: 0.0094 - accuracy: 0.9970 - val_loss: 0.1118 - val_accuracy: 0.9761\n",
      "Epoch 16/20\n",
      "1875/1875 [==============================] - 13s 7ms/step - loss: 0.0085 - accuracy: 0.9973 - val_loss: 0.0932 - val_accuracy: 0.9826\n",
      "Epoch 17/20\n",
      "1875/1875 [==============================] - 13s 7ms/step - loss: 0.0059 - accuracy: 0.9981 - val_loss: 0.1014 - val_accuracy: 0.9803\n",
      "Epoch 18/20\n",
      "1875/1875 [==============================] - 14s 7ms/step - loss: 0.0075 - accuracy: 0.9976 - val_loss: 0.0938 - val_accuracy: 0.9825\n",
      "Epoch 19/20\n",
      "1875/1875 [==============================] - 14s 8ms/step - loss: 0.0078 - accuracy: 0.9976 - val_loss: 0.1000 - val_accuracy: 0.9820\n",
      "Epoch 20/20\n",
      "1875/1875 [==============================] - 13s 7ms/step - loss: 0.0054 - accuracy: 0.9983 - val_loss: 0.1088 - val_accuracy: 0.9803\n"
     ]
    }
   ],
   "source": [
    "history22 = model22.fit(X_train, y_train, epochs=20, validation_data=(X_test, y_test))"
   ]
  },
  {
   "cell_type": "code",
   "execution_count": 45,
   "metadata": {},
   "outputs": [
    {
     "data": {
      "image/png": "[encoded data removed]",
      "text/plain": [
       "<Figure size 432x288 with 1 Axes>"
      ]
     },
     "metadata": {
      "needs_background": "light"
     },
     "output_type": "display_data"
    }
   ],
   "source": [
    "plt.plot(history22.history['accuracy'])\n",
    "plt.plot(history22.history['val_accuracy'])\n",
    "plt.plot(history22.history['loss']);"
   ]
  },
  {
   "cell_type": "code",
   "execution_count": 46,
   "metadata": {},
   "outputs": [
    {
     "name": "stdout",
     "output_type": "stream",
     "text": [
      "313/313 [==============================] - 1s 2ms/step - loss: 0.1088 - accuracy: 0.9803\n"
     ]
    },
    {
     "data": {
      "text/plain": [
       "[0.10882866382598877, 0.9803000092506409]"
      ]
     },
     "execution_count": 46,
     "metadata": {},
     "output_type": "execute_result"
    }
   ],
   "source": [
    "score = model22.evaluate(X_test, y_test)\n",
    "score"
   ]
  },
  {
   "cell_type": "code",
   "execution_count": null,
   "metadata": {},
   "outputs": [],
   "source": []
  }
 ],
 "metadata": {
  "anaconda-cloud": {},
  "kernelspec": {
   "display_name": "Python 3",
   "language": "python",
   "name": "python3"
  },
  "language_info": {
   "codemirror_mode": {
    "name": "ipython",
    "version": 3
   },
   "file_extension": ".py",
   "mimetype": "text/x-python",
   "name": "python",
   "nbconvert_exporter": "python",
   "pygments_lexer": "ipython3",
   "version": "3.8.3"
  }
 },
 "nbformat": 4,
 "nbformat_minor": 2
}
